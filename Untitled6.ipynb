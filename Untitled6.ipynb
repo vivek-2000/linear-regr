{
  "nbformat": 4,
  "nbformat_minor": 0,
  "metadata": {
    "colab": {
      "name": "Untitled6.ipynb",
      "provenance": [],
      "authorship_tag": "ABX9TyPYVNGPGO3opU16N+Cpq+2S",
      "include_colab_link": true
    },
    "kernelspec": {
      "name": "python3",
      "display_name": "Python 3"
    }
  },
  "cells": [
    {
      "cell_type": "markdown",
      "metadata": {
        "id": "view-in-github",
        "colab_type": "text"
      },
      "source": [
        "<a href=\"https://colab.research.google.com/github/vivek-2000/linear-regr/blob/master/Untitled6.ipynb\" target=\"_parent\"><img src=\"https://colab.research.google.com/assets/colab-badge.svg\" alt=\"Open In Colab\"/></a>"
      ]
    },
    {
      "cell_type": "code",
      "metadata": {
        "id": "6XlscoFrtaNY",
        "colab_type": "code",
        "colab": {}
      },
      "source": [
        "l=[[1,2,[11,22],[44,55],33],3],[4,5,[9990,6,7]]"
      ],
      "execution_count": 0,
      "outputs": []
    },
    {
      "cell_type": "code",
      "metadata": {
        "id": "JPUTig9ct1lr",
        "colab_type": "code",
        "colab": {
          "base_uri": "https://localhost:8080/",
          "height": 34
        },
        "outputId": "ef0f057a-7f37-4c9c-8da8-052022fd0b0c"
      },
      "source": [
        "print(l[-1][-1][-1])"
      ],
      "execution_count": 8,
      "outputs": [
        {
          "output_type": "stream",
          "text": [
            "7\n"
          ],
          "name": "stdout"
        }
      ]
    },
    {
      "cell_type": "code",
      "metadata": {
        "id": "Njyda152udH2",
        "colab_type": "code",
        "colab": {
          "base_uri": "https://localhost:8080/",
          "height": 52
        },
        "outputId": "ed7219a3-e244-48f7-b756-e409c9d95841"
      },
      "source": [
        "for i in l:\n",
        "  print(i)"
      ],
      "execution_count": 9,
      "outputs": [
        {
          "output_type": "stream",
          "text": [
            "[[1, 2, [11, 22], [44, 55], 33], 3]\n",
            "[4, 5, [9990, 6, 7]]\n"
          ],
          "name": "stdout"
        }
      ]
    },
    {
      "cell_type": "code",
      "metadata": {
        "id": "RwlMVDsPwe_C",
        "colab_type": "code",
        "colab": {
          "base_uri": "https://localhost:8080/",
          "height": 34
        },
        "outputId": "04e70367-36ca-47de-d166-cba72d54e488"
      },
      "source": [
        "Temp=[]\n",
        "def fun(l): \n",
        "  for a in l:\n",
        "    if isinstance(a, list) :\n",
        "      fun(a) \n",
        "    else:\n",
        "      Temp.append(a)\n",
        "fun(l)\n",
        "print(Temp)"
      ],
      "execution_count": 20,
      "outputs": [
        {
          "output_type": "stream",
          "text": [
            "[1, 2, 11, 22, 44, 55, 33, 3, 4, 5, 9990, 6, 7]\n"
          ],
          "name": "stdout"
        }
      ]
    },
    {
      "cell_type": "code",
      "metadata": {
        "id": "4mMPgM54xnv4",
        "colab_type": "code",
        "colab": {}
      },
      "source": [
        "\n",
        "d={1:{2:{3:4,5:6},3:{4:5,6:7}}}"
      ],
      "execution_count": 0,
      "outputs": []
    },
    {
      "cell_type": "code",
      "metadata": {
        "id": "47tnZwrI4dGj",
        "colab_type": "code",
        "colab": {
          "base_uri": "https://localhost:8080/",
          "height": 34
        },
        "outputId": "6099f126-9dac-4e63-8dc5-b362984f372a"
      },
      "source": [
        "Temp=[]\n",
        "def fun1(d): \n",
        "  for a in d:\n",
        "    if isinstance(a, dict) :\n",
        "      fun(a) \n",
        "    else:\n",
        "      Temp.append(a)\n",
        "fun(l)\n",
        "print(Temp[-1])"
      ],
      "execution_count": 28,
      "outputs": [
        {
          "output_type": "stream",
          "text": [
            "7\n"
          ],
          "name": "stdout"
        }
      ]
    },
    {
      "cell_type": "code",
      "metadata": {
        "id": "XeSe6w5Y4gAM",
        "colab_type": "code",
        "colab": {}
      },
      "source": [
        ""
      ],
      "execution_count": 0,
      "outputs": []
    }
  ]
}